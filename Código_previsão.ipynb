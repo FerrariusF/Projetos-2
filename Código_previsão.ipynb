{
  "nbformat": 4,
  "nbformat_minor": 0,
  "metadata": {
    "colab": {
      "name": "Código previsão",
      "provenance": []
    },
    "kernelspec": {
      "name": "python3",
      "display_name": "Python 3"
    },
    "language_info": {
      "name": "python"
    }
  },
  "cells": [
    {
      "cell_type": "markdown",
      "source": [
        "## Importando e separando os dados do INMET"
      ],
      "metadata": {
        "id": "aInrgUs02WMT"
      }
    },
    {
      "cell_type": "markdown",
      "source": [
        "### Importando e separando dados do INMET"
      ],
      "metadata": {
        "id": "VFjcTwaDCPmD"
      }
    },
    {
      "cell_type": "code",
      "source": [
        "#Definindo período dos dados\n",
        "AnoI=2019\n",
        "AnoF=2022\n",
        "Mes=\"07\"\n",
        "DiaF=7\n",
        "\n",
        "#Imports\n",
        "import requests\n",
        "import pandas as pd\n",
        "import json\n",
        "\n",
        "#reset de variável\n",
        "dados_filtrados=0\n",
        "\n",
        "#Anos loop request\n",
        "for Ano in range(AnoI, AnoF):\n",
        "  url = \"https://apitempo.inmet.gov.br/estacao/\"+str(Ano)+\"-\"+Mes+\"-\"+str(DiaF+1)+\"/\"+str(Ano+1)+\"-\"+Mes+\"-\"+str(DiaF)+\"/A201\"\n",
        "  resultado = requests.get(url)\n",
        "  dados = resultado.json()\n",
        "  ##Convertendo em um DataFrame e filtrando\n",
        "  dados_str = json.dumps(dados)\n",
        "  dados_tabela = pd.read_json(dados_str)\n",
        "  dados_tabela_separados = dados_tabela[[\"DT_MEDICAO\",\"HR_MEDICAO\",\"RAD_GLO\",\"TEM_INS\",\"UMD_INS\"]]\n",
        "  #Verifica se dados_filtrados já tem uma tabela\n",
        "  if (type(dados_filtrados) is int):\n",
        "    dados_filtrados = dados_tabela_separados\n",
        "  else:\n",
        "    dados_filtrados = pd.DataFrame(dados_filtrados)\n",
        "    dados_tabela_separados = pd.DataFrame(dados_tabela_separados)\n",
        "    ds = [dados_filtrados, dados_tabela_separados]\n",
        "    #Junção das tabelas\n",
        "    dados_filtrados = pd.concat(ds, ignore_index=True)\n",
        "\n",
        "print(dados_filtrados)"
      ],
      "metadata": {
        "colab": {
          "base_uri": "https://localhost:8080/"
        },
        "id": "GkiWgfgbzyBM",
        "outputId": "a29ba66b-41b2-43eb-9280-41fee9f5e965"
      },
      "execution_count": 1,
      "outputs": [
        {
          "output_type": "stream",
          "name": "stdout",
          "text": [
            "       DT_MEDICAO  HR_MEDICAO  RAD_GLO  TEM_INS  UMD_INS\n",
            "0      2019-07-08           0      0.5     24.6     87.0\n",
            "1      2019-07-08         100      1.1     24.8     87.0\n",
            "2      2019-07-08         200      0.0     25.3     85.0\n",
            "3      2019-07-08         300      0.0     25.1     85.0\n",
            "4      2019-07-08         400      0.1     25.2     85.0\n",
            "...           ...         ...      ...      ...      ...\n",
            "26299  2022-07-07        1900    124.9     24.9     93.0\n",
            "26300  2022-07-07        2000     73.6     24.8     90.0\n",
            "26301  2022-07-07        2100     45.9     24.6     93.0\n",
            "26302  2022-07-07        2200      4.7     24.4     95.0\n",
            "26303  2022-07-07        2300      0.1     24.7     94.0\n",
            "\n",
            "[26304 rows x 5 columns]\n"
          ]
        }
      ]
    },
    {
      "cell_type": "markdown",
      "source": [
        "## Lidando com NAs e ajustando dados"
      ],
      "metadata": {
        "id": "TFH9spSCB07Y"
      }
    },
    {
      "cell_type": "markdown",
      "source": [
        "### Umidade"
      ],
      "metadata": {
        "id": "T9IgB9ktCC0q"
      }
    },
    {
      "cell_type": "code",
      "source": [
        "import matplotlib.pyplot as plt\n",
        "\n",
        "\n",
        "#Coluna umidade com NAs\n",
        "coluna_umidade_cNAs = dados_filtrados[[\"UMD_INS\"]]\n",
        "#Numero de NAs\n",
        "print(\"Numero de NAs na umidade\",coluna_umidade_cNAs.isna().sum())\n",
        "#Correção linear de NAs\n",
        "coluna_umidade = coluna_umidade_cNAs.interpolate(method=\"linear\")\n",
        "#Numero de NAs final \n",
        "print(\"Numero de NAs na umidade\",coluna_umidade.isna().sum())\n",
        "\n",
        "#Gráficos de NAS\n",
        "#coluna_umidade_cNAs.plot(figsize=(22,4), label=\"original\")\n",
        "#coluna_umidade.plot(figsize=(22,4),style=[\"--\"],label=\"Com correção linear\")\n",
        "#plt.legend()\n",
        "#print(coluna_umidade)\n",
        "\n",
        "#Atribuição final\n",
        "import numpy as np\n",
        "import datetime\n",
        "#Umidade\n",
        "inicio = str(AnoI)+\"-\"+Mes+\"-\"+str(DiaF+1)\n",
        "indice = pd.date_range(inicio, freq = 'H', periods = len(coluna_umidade[[\"UMD_INS\"]]))\n",
        "\n",
        "umidade = coluna_umidade[[\"UMD_INS\"]]\n",
        "umidade.index = indice\n",
        "#umidade"
      ],
      "metadata": {
        "id": "uz1D_gwICo-8",
        "colab": {
          "base_uri": "https://localhost:8080/"
        },
        "outputId": "4ffbdbfa-7d30-4c35-ca0c-32832a58ded8"
      },
      "execution_count": 2,
      "outputs": [
        {
          "output_type": "stream",
          "name": "stdout",
          "text": [
            "Numero de NAs na umidade UMD_INS    2755\n",
            "dtype: int64\n",
            "Numero de NAs na umidade UMD_INS    0\n",
            "dtype: int64\n"
          ]
        }
      ]
    },
    {
      "cell_type": "markdown",
      "source": [
        "### Temperatura"
      ],
      "metadata": {
        "id": "kj24Mxv5B9TO"
      }
    },
    {
      "cell_type": "code",
      "source": [
        "#Coluna temperatura com NAs\n",
        "coluna_temperatura_cNAs = dados_filtrados[[\"TEM_INS\"]]\n",
        "#Numero de NAs\n",
        "print(\"Numero de NAs na temperatura\",coluna_temperatura_cNAs.isna().sum())\n",
        "#Correção linear de NAs\n",
        "coluna_temperatura = coluna_temperatura_cNAs.interpolate(method=\"linear\")\n",
        "#Numero de NAs final \n",
        "print(\"Numero de NAs na temperatura\",coluna_temperatura.isna().sum())\n",
        "\n",
        "#Gráficos de NAS\n",
        "#coluna_temperatura_cNAs.plot(figsize=(22,4), label=\"original\")\n",
        "#coluna_temperatura.plot(figsize=(22,4),style=[\"--\"],label=\"Com correção linear\")\n",
        "#plt.legend()\n",
        "#print(coluna_temperatura)\n",
        "\n",
        "#Atribuição final\n",
        "#temperatura\n",
        "temperatura = coluna_temperatura[[\"TEM_INS\"]]\n",
        "temperatura.index = indice\n",
        "#temperatura"
      ],
      "metadata": {
        "colab": {
          "base_uri": "https://localhost:8080/"
        },
        "id": "fFJePD9OtFWO",
        "outputId": "513525f6-9c0f-4ccf-e4c4-a722237f13b4"
      },
      "execution_count": 3,
      "outputs": [
        {
          "output_type": "stream",
          "name": "stdout",
          "text": [
            "Numero de NAs na temperatura TEM_INS    2535\n",
            "dtype: int64\n",
            "Numero de NAs na temperatura TEM_INS    0\n",
            "dtype: int64\n"
          ]
        }
      ]
    },
    {
      "cell_type": "markdown",
      "source": [
        "### Radiação"
      ],
      "metadata": {
        "id": "uAcGMuHHBxbn"
      }
    },
    {
      "cell_type": "code",
      "source": [
        "#Função de correção dos valores negativos\n",
        "def correct_neg(x):\n",
        "  if (type(x)==str):\n",
        "    return x\n",
        "  else:\n",
        "    if (x<0):\n",
        "      return 0\n",
        "    else:\n",
        "      return x"
      ],
      "metadata": {
        "id": "03w31OtpIsBz"
      },
      "execution_count": 4,
      "outputs": []
    },
    {
      "cell_type": "code",
      "source": [
        "#Coluna radiação com NAs\n",
        "coluna_radiacao_cNAs_0 = dados_filtrados[[\"RAD_GLO\"]]\n",
        "#Correção de números negativos\n",
        "#fazer coluna_radiacao_cNAs = x for x em coluna_radiacao_0 se um dos elementos de coluna for maior que 0, se não igualar a zero\n",
        "coluna_radiacao_cNAs_0[\"RAD_GLO\"] = [correct_neg(x) for x in coluna_radiacao_cNAs_0[\"RAD_GLO\"]]\n",
        "#print(coluna_radiacao_cNAs_0)\n",
        "coluna_radiacao_cNAs = coluna_radiacao_cNAs_0\n",
        "\n",
        "#Numero de NAs\n",
        "print(\"Numero de NAs na radiação\",coluna_radiacao_cNAs.isna().sum())\n",
        "#Correção linear de NAs\n",
        "coluna_radiacao = coluna_radiacao_cNAs.interpolate(method=\"linear\")\n",
        "#Numero de NAs final \n",
        "print(\"Numero de NAs na radiação\",coluna_radiacao.isna().sum())\n",
        "\n",
        "#Gráficos de NAS\n",
        "#coluna_radiacao_cNAs.plot(figsize=(22,4), label=\"original\")\n",
        "#coluna_radiacao.plot(figsize=(22,4),style=[\"--\"],label=\"Com correção linear\")\n",
        "#plt.legend()\n",
        "#print(coluna_radiacao)\n",
        "\n",
        "#temperatura\n",
        "radiacao = coluna_radiacao[[\"RAD_GLO\"]]\n",
        "radiacao.index = indice\n",
        "#radiacao"
      ],
      "metadata": {
        "colab": {
          "base_uri": "https://localhost:8080/"
        },
        "id": "sHN5UUXxtFDG",
        "outputId": "5cd8a1ef-920b-4580-dfff-a43aa38d949a"
      },
      "execution_count": 5,
      "outputs": [
        {
          "output_type": "stream",
          "name": "stdout",
          "text": [
            "Numero de NAs na radiação RAD_GLO    2533\n",
            "dtype: int64\n",
            "Numero de NAs na radiação RAD_GLO    0\n",
            "dtype: int64\n"
          ]
        },
        {
          "output_type": "stream",
          "name": "stderr",
          "text": [
            "/usr/local/lib/python3.7/dist-packages/ipykernel_launcher.py:5: SettingWithCopyWarning: \n",
            "A value is trying to be set on a copy of a slice from a DataFrame.\n",
            "Try using .loc[row_indexer,col_indexer] = value instead\n",
            "\n",
            "See the caveats in the documentation: https://pandas.pydata.org/pandas-docs/stable/user_guide/indexing.html#returning-a-view-versus-a-copy\n",
            "  \"\"\"\n"
          ]
        }
      ]
    },
    {
      "cell_type": "markdown",
      "source": [
        "## Análise dos dados"
      ],
      "metadata": {
        "id": "Q5Xb6O74ChyJ"
      }
    },
    {
      "cell_type": "markdown",
      "source": [
        "### Análise de umidade"
      ],
      "metadata": {
        "id": "nrX_dwYSB1p-"
      }
    },
    {
      "cell_type": "code",
      "source": [
        "#!pip install statsmodels\n",
        "!pip install statsmodels --upgrade"
      ],
      "metadata": {
        "colab": {
          "base_uri": "https://localhost:8080/"
        },
        "id": "NO21bZVdLiFT",
        "outputId": "2e2cc4f7-0c84-42d6-db0b-52ed34ea46b8"
      },
      "execution_count": 6,
      "outputs": [
        {
          "output_type": "stream",
          "name": "stdout",
          "text": [
            "Looking in indexes: https://pypi.org/simple, https://us-python.pkg.dev/colab-wheels/public/simple/\n",
            "Requirement already satisfied: statsmodels in /usr/local/lib/python3.7/dist-packages (0.10.2)\n",
            "Collecting statsmodels\n",
            "  Downloading statsmodels-0.13.2-cp37-cp37m-manylinux_2_17_x86_64.manylinux2014_x86_64.whl (9.8 MB)\n",
            "\u001b[K     |████████████████████████████████| 9.8 MB 5.4 MB/s \n",
            "\u001b[?25hRequirement already satisfied: scipy>=1.3 in /usr/local/lib/python3.7/dist-packages (from statsmodels) (1.4.1)\n",
            "Requirement already satisfied: numpy>=1.17 in /usr/local/lib/python3.7/dist-packages (from statsmodels) (1.21.6)\n",
            "Requirement already satisfied: pandas>=0.25 in /usr/local/lib/python3.7/dist-packages (from statsmodels) (1.3.5)\n",
            "Requirement already satisfied: patsy>=0.5.2 in /usr/local/lib/python3.7/dist-packages (from statsmodels) (0.5.2)\n",
            "Requirement already satisfied: packaging>=21.3 in /usr/local/lib/python3.7/dist-packages (from statsmodels) (21.3)\n",
            "Requirement already satisfied: pyparsing!=3.0.5,>=2.0.2 in /usr/local/lib/python3.7/dist-packages (from packaging>=21.3->statsmodels) (3.0.9)\n",
            "Requirement already satisfied: pytz>=2017.3 in /usr/local/lib/python3.7/dist-packages (from pandas>=0.25->statsmodels) (2022.1)\n",
            "Requirement already satisfied: python-dateutil>=2.7.3 in /usr/local/lib/python3.7/dist-packages (from pandas>=0.25->statsmodels) (2.8.2)\n",
            "Requirement already satisfied: six in /usr/local/lib/python3.7/dist-packages (from patsy>=0.5.2->statsmodels) (1.15.0)\n",
            "Installing collected packages: statsmodels\n",
            "  Attempting uninstall: statsmodels\n",
            "    Found existing installation: statsmodels 0.10.2\n",
            "    Uninstalling statsmodels-0.10.2:\n",
            "      Successfully uninstalled statsmodels-0.10.2\n",
            "Successfully installed statsmodels-0.13.2\n"
          ]
        }
      ]
    },
    {
      "cell_type": "code",
      "source": [
        "from statsmodels.tsa.arima.model import ARIMA\n",
        "\n",
        "##print(umidade)\n",
        "#umidade.plot(figsize=(20,6))\n",
        "##umidade.describe()"
      ],
      "metadata": {
        "id": "9BfbVeuFC-af"
      },
      "execution_count": 7,
      "outputs": []
    },
    {
      "cell_type": "markdown",
      "source": [
        "####Análise de tendencia, sazonalidade e residuos"
      ],
      "metadata": {
        "id": "PpeuO9lrhOpB"
      }
    },
    {
      "cell_type": "code",
      "source": [
        "from statsmodels.tsa.seasonal import seasonal_decompose\n",
        "#AnlUmid = seasonal_decompose(umidade)\n",
        "#fig = plt.figure(figsize=(8,6))\n",
        "#fig = AnlUmid.plot()"
      ],
      "metadata": {
        "id": "0AdRra-xfjr1"
      },
      "execution_count": 8,
      "outputs": []
    },
    {
      "cell_type": "code",
      "source": [
        "#meses\n",
        "percentual = int(len(umidade)*0.95)\n",
        "parteU = umidade[percentual:]\n",
        "#AnlpartUmid = seasonal_decompose(parteU)\n",
        "#figpart = plt.figure(figsize=(8,6))\n",
        "#figpart = AnlpartUmid.plot()\n"
      ],
      "metadata": {
        "id": "Xje1fFBF0i-a"
      },
      "execution_count": 9,
      "outputs": []
    },
    {
      "cell_type": "markdown",
      "source": [
        "####Teste de estacionariedade"
      ],
      "metadata": {
        "id": "SHq8l-a_R5nV"
      }
    },
    {
      "cell_type": "code",
      "source": [
        "from statsmodels.tsa.stattools import adfuller\n",
        "\n",
        "##teste de estacionariedade\n",
        "#estU = adfuller(umidade)\n",
        "#print(f'teste ADF:{estU[0]}')\n",
        "#print(f'p-valor:{estU[1]}')\n",
        "##p-valor muito baixo, ou seja é estacionária"
      ],
      "metadata": {
        "id": "F_80rr3pDt1d"
      },
      "execution_count": 10,
      "outputs": []
    },
    {
      "cell_type": "code",
      "source": [
        "## teste de estacionariedade com diferenciação do valor atual - anterior\n",
        "#estU = adfuller(umidade.diff().dropna())\n",
        "#print(f'teste ADF:{estU[0]}')\n",
        "#print(f'p-valor:{estU[1]}')"
      ],
      "metadata": {
        "id": "62jMtYn7Igi8"
      },
      "execution_count": 11,
      "outputs": []
    },
    {
      "cell_type": "markdown",
      "source": [
        "####Verificação de autocorrelação"
      ],
      "metadata": {
        "id": "7QDfsQzgR-I9"
      }
    },
    {
      "cell_type": "code",
      "source": [
        "from pandas.plotting import autocorrelation_plot\n",
        "from matplotlib import pyplot"
      ],
      "metadata": {
        "id": "U7bfYAnxUazg"
      },
      "execution_count": 12,
      "outputs": []
    },
    {
      "cell_type": "code",
      "source": [
        "#autocorrelation_plot(umidade)\n",
        "#pyplot.show()"
      ],
      "metadata": {
        "id": "JISss1AxSHUH"
      },
      "execution_count": 13,
      "outputs": []
    },
    {
      "cell_type": "code",
      "source": [
        "#autocorrelation_plot(parteU)\n",
        "#pyplot.show()"
      ],
      "metadata": {
        "id": "MS-pdzA4Sprm"
      },
      "execution_count": 14,
      "outputs": []
    },
    {
      "cell_type": "code",
      "source": [
        "import pandas.util.testing as tm\n",
        "from statsmodels.graphics.tsaplots import plot_acf\n",
        "from statsmodels.graphics.tsaplots import plot_pacf"
      ],
      "metadata": {
        "id": "Lal_RIjXTQ8q",
        "colab": {
          "base_uri": "https://localhost:8080/"
        },
        "outputId": "54ebaf8e-12b1-4695-d230-739666ffcb4d"
      },
      "execution_count": 15,
      "outputs": [
        {
          "output_type": "stream",
          "name": "stderr",
          "text": [
            "/usr/local/lib/python3.7/dist-packages/ipykernel_launcher.py:1: FutureWarning: pandas.util.testing is deprecated. Use the functions in the public API at pandas.testing instead.\n",
            "  \"\"\"Entry point for launching an IPython kernel.\n"
          ]
        }
      ]
    },
    {
      "cell_type": "code",
      "source": [
        "#plot_acf(umidade, lags = 8000)\n",
        "#pyplot.show()\n",
        "\n",
        "##Em 24 lags ocorre a primeira repetição (o que se)\n",
        "##Em 4000 a auto correlação diminue para mais ou menos 50%\n",
        "##Depois de 7000  e pouco fica abaixo do nível de significância (observar 8000)\n",
        "##Aparentemente por volta de 7200 lags (é interessante pois 24x365 é 8760)"
      ],
      "metadata": {
        "id": "ZG9GipQqUjFE"
      },
      "execution_count": 16,
      "outputs": []
    },
    {
      "cell_type": "markdown",
      "source": [
        "####Criando modelo arima"
      ],
      "metadata": {
        "id": "2lZIMjygcSTb"
      }
    },
    {
      "cell_type": "code",
      "source": [
        "#Arima(p,q,d)\n",
        "model_U = ARIMA(umidade, order=(24,0,1))\n",
        "#foi testada a configuração (7200,0,1) e o fit demorou mais q 20 min e n terminou\n",
        "#teste 400 lags o fit tbm tava demorando mt\n",
        "#teste 24 lags 13min"
      ],
      "metadata": {
        "id": "8bf8ufuffZ6B"
      },
      "execution_count": 17,
      "outputs": []
    },
    {
      "cell_type": "code",
      "source": [
        "#Execut modelo\n",
        "model_U_fit = model_U.fit()"
      ],
      "metadata": {
        "id": "CYbU1GaThCJM"
      },
      "execution_count": 18,
      "outputs": []
    },
    {
      "cell_type": "code",
      "source": [
        "#model_U_fit.summary()"
      ],
      "metadata": {
        "id": "Eo8zjek8dY76"
      },
      "execution_count": 19,
      "outputs": []
    },
    {
      "cell_type": "markdown",
      "source": [
        "#####Teste obtendo predições de 1 dia e comparando com a parte final do grafico de umidade "
      ],
      "metadata": {
        "id": "0n2jX8EH1Lvj"
      }
    },
    {
      "cell_type": "code",
      "source": [
        "predicoes_U = model_U_fit.get_prediction(start=-24)\n",
        "pred_med_U = predicoes_U.predicted_mean"
      ],
      "metadata": {
        "id": "_C7nbdDBgQuB"
      },
      "execution_count": 20,
      "outputs": []
    },
    {
      "cell_type": "code",
      "source": [
        "datas_pred_U = np.asarray(pred_med_U.index)\n",
        "datas_U = np.asarray(parteU.index)"
      ],
      "metadata": {
        "id": "cVTj2vLry-Hn"
      },
      "execution_count": 21,
      "outputs": []
    },
    {
      "cell_type": "code",
      "source": [
        "#plt.figure(figsize=(10,6))\n",
        "#plt.plot(datas_pred_U, pred_med_U.values, color='red', label='predicao')\n",
        "#plt.plot(datas_U, parteU.values, label = 'real')\n",
        "#plt.legend()\n",
        "#plt.show()"
      ],
      "metadata": {
        "id": "yGrwHROvzRDq"
      },
      "execution_count": 22,
      "outputs": []
    },
    {
      "cell_type": "code",
      "source": [
        "from sklearn.metrics import mean_squared_error\n",
        "from math import sqrt\n",
        "\n",
        "#erro medio quadratico, deu aproximadamente 5\n",
        "#rmse_U = sqrt(mean_squared_error(parteU[-24:].values, pred_med_U.values))\n",
        "#print(rmse_U)\n"
      ],
      "metadata": {
        "id": "Hxr4IiOw10_1"
      },
      "execution_count": 23,
      "outputs": []
    },
    {
      "cell_type": "markdown",
      "source": [
        "#####Obtendo previsão"
      ],
      "metadata": {
        "id": "WIZPaveT1fE-"
      }
    },
    {
      "cell_type": "code",
      "source": [
        "#Preencher com o numero de horas a serem previstas\n",
        "previsoes_U = model_U_fit.get_forecast(steps=48)\n",
        "previsao_M_U = previsoes_U.predicted_mean\n",
        "previsao_M_U.size"
      ],
      "metadata": {
        "colab": {
          "base_uri": "https://localhost:8080/"
        },
        "id": "JDmutot37qVy",
        "outputId": "4815789e-66ec-446c-e72a-f9312b20f019"
      },
      "execution_count": 24,
      "outputs": [
        {
          "output_type": "execute_result",
          "data": {
            "text/plain": [
              "48"
            ]
          },
          "metadata": {},
          "execution_count": 24
        }
      ]
    },
    {
      "cell_type": "code",
      "source": [
        "previsao_M_U[0]"
      ],
      "metadata": {
        "colab": {
          "base_uri": "https://localhost:8080/"
        },
        "id": "fTbjRszQ90-_",
        "outputId": "0e17ec0d-0131-446c-8cce-c2dbfff09c37"
      },
      "execution_count": 25,
      "outputs": [
        {
          "output_type": "execute_result",
          "data": {
            "text/plain": [
              "93.34695980462445"
            ]
          },
          "metadata": {},
          "execution_count": 25
        }
      ]
    },
    {
      "cell_type": "code",
      "source": [
        "datas_prev_U = np.array(previsao_M_U.index)\n",
        "\n",
        "plt.figure(figsize=(20,2))\n",
        "plt.plot(datas_prev_U, previsao_M_U.values, color='green', label='previsão')\n",
        "\n",
        "plt.plot(datas_pred_U, pred_med_U.values, color='red', label='predicao')\n",
        "plt.plot(datas_U, parteU.values, label = 'real')\n",
        "plt.legend(loc='upper left')\n",
        "plt.show()"
      ],
      "metadata": {
        "colab": {
          "base_uri": "https://localhost:8080/",
          "height": 0
        },
        "id": "N-G_KTKs_lDa",
        "outputId": "62b3fb19-936b-483d-cef5-7f2b607f507e"
      },
      "execution_count": 26,
      "outputs": [
        {
          "output_type": "display_data",
          "data": {
            "text/plain": [
              "<Figure size 1440x144 with 1 Axes>"
            ],
            "image/png": "[encoded data removed]"
          },
          "metadata": {
            "needs_background": "light"
          }
        }
      ]
    },
    {
      "cell_type": "code",
      "source": [
        "print(previsao_M_U)"
      ],
      "metadata": {
        "colab": {
          "base_uri": "https://localhost:8080/"
        },
        "id": "N86weSex9q8M",
        "outputId": "63a9e0e5-0880-4379-d55b-bbddef13c7ff"
      },
      "execution_count": 27,
      "outputs": [
        {
          "output_type": "stream",
          "name": "stdout",
          "text": [
            "2022-07-08 00:00:00    93.346960\n",
            "2022-07-08 01:00:00    91.924206\n",
            "2022-07-08 02:00:00    90.589547\n",
            "2022-07-08 03:00:00    89.608454\n",
            "2022-07-08 04:00:00    89.127962\n",
            "2022-07-08 05:00:00    89.582784\n",
            "2022-07-08 06:00:00    90.717012\n",
            "2022-07-08 07:00:00    91.459525\n",
            "2022-07-08 08:00:00    91.366683\n",
            "2022-07-08 09:00:00    90.657424\n",
            "2022-07-08 10:00:00    89.021246\n",
            "2022-07-08 11:00:00    86.506186\n",
            "2022-07-08 12:00:00    82.788168\n",
            "2022-07-08 13:00:00    78.897443\n",
            "2022-07-08 14:00:00    75.934784\n",
            "2022-07-08 15:00:00    74.399380\n",
            "2022-07-08 16:00:00    74.164795\n",
            "2022-07-08 17:00:00    77.041470\n",
            "2022-07-08 18:00:00    81.222517\n",
            "2022-07-08 19:00:00    84.840769\n",
            "2022-07-08 20:00:00    87.838436\n",
            "2022-07-08 21:00:00    90.436475\n",
            "2022-07-08 22:00:00    91.912589\n",
            "2022-07-08 23:00:00    92.414350\n",
            "2022-07-09 00:00:00    92.099292\n",
            "2022-07-09 01:00:00    91.298350\n",
            "2022-07-09 02:00:00    90.415978\n",
            "2022-07-09 03:00:00    89.716980\n",
            "2022-07-09 04:00:00    89.424199\n",
            "2022-07-09 05:00:00    89.603188\n",
            "2022-07-09 06:00:00    90.002625\n",
            "2022-07-09 07:00:00    90.219696\n",
            "2022-07-09 08:00:00    89.956469\n",
            "2022-07-09 09:00:00    89.055709\n",
            "2022-07-09 10:00:00    87.404295\n",
            "2022-07-09 11:00:00    85.045824\n",
            "2022-07-09 12:00:00    82.277603\n",
            "2022-07-09 13:00:00    79.659367\n",
            "2022-07-09 14:00:00    77.647130\n",
            "2022-07-09 15:00:00    76.617199\n",
            "2022-07-09 16:00:00    76.844067\n",
            "2022-07-09 17:00:00    78.334168\n",
            "2022-07-09 18:00:00    80.625237\n",
            "2022-07-09 19:00:00    83.267466\n",
            "2022-07-09 20:00:00    85.858970\n",
            "2022-07-09 21:00:00    88.058043\n",
            "2022-07-09 22:00:00    89.607034\n",
            "2022-07-09 23:00:00    90.444941\n",
            "Freq: H, Name: predicted_mean, dtype: float64\n"
          ]
        }
      ]
    },
    {
      "cell_type": "markdown",
      "source": [
        "### Análise de temperatura"
      ],
      "metadata": {
        "id": "0zq8CGIwB1yF"
      }
    },
    {
      "cell_type": "code",
      "source": [
        "#print(temperatura)\n",
        "#temperatura.plot(figsize=(20,6))\n",
        "#temperatura.describe()"
      ],
      "metadata": {
        "id": "duFQDkkdC_s5"
      },
      "execution_count": 28,
      "outputs": []
    },
    {
      "cell_type": "code",
      "source": [
        "#Análise de tendência e sazonalidade e resíduos\n",
        "\n",
        "#AnlTemp = seasonal_decompose(temperatura)\n",
        "#fig = plt.figure(figsize=(8,6))\n",
        "#fig = AnlTemp.plot()"
      ],
      "metadata": {
        "id": "PlecXqsghAlP"
      },
      "execution_count": 29,
      "outputs": []
    },
    {
      "cell_type": "code",
      "source": [
        "#Análise de tendência e sazonalidade e resíduos da parte final\n",
        "\n",
        "#meses\n",
        "percentual = int(len(temperatura)*0.95)\n",
        "parteT = temperatura[percentual:]\n",
        "#AnlpartTemp = seasonal_decompose(parteT)\n",
        "#figpart = plt.figure(figsize=(8,6))\n",
        "#figpart = AnlpartTemp.plot()"
      ],
      "metadata": {
        "id": "Ga5kSDwchNwP"
      },
      "execution_count": 30,
      "outputs": []
    },
    {
      "cell_type": "markdown",
      "source": [
        "####Teste de estacionariedade"
      ],
      "metadata": {
        "id": "MlF_-pNqhn5v"
      }
    },
    {
      "cell_type": "code",
      "source": [
        "##teste de estacionariedade\n",
        "#estT = adfuller(temperatura)\n",
        "#print(f'teste ADF:{estT[0]}')\n",
        "#print(f'p-valor:{estT[1]}')\n",
        "##p-valor muito baixo, ou seja é estacionária"
      ],
      "metadata": {
        "id": "XpZvxHLrhsWE"
      },
      "execution_count": 31,
      "outputs": []
    },
    {
      "cell_type": "code",
      "source": [
        "## teste de estacionariedade com diferenciação do valor atual - anterior\n",
        "#estT = adfuller(temperatura.diff().dropna())\n",
        "#print(f'teste ADF:{estT[0]}')\n",
        "#print(f'p-valor:{estT[1]}')"
      ],
      "metadata": {
        "id": "5j-Yfm40iAXz"
      },
      "execution_count": 32,
      "outputs": []
    },
    {
      "cell_type": "markdown",
      "source": [
        "####Teste de autocorrelação"
      ],
      "metadata": {
        "id": "D07U9Km4iVdJ"
      }
    },
    {
      "cell_type": "code",
      "source": [
        "#autocorrelation_plot(temperatura)\n",
        "#pyplot.show()"
      ],
      "metadata": {
        "id": "BBKSnLYfiYa3"
      },
      "execution_count": 33,
      "outputs": []
    },
    {
      "cell_type": "code",
      "source": [
        "#plot_acf(umidade, lags = 24)\n",
        "#pyplot.show()\n",
        "\n",
        "#Em 5400 lags fica abaixo do nível de significancia\n",
        "#Repetição em 24 lags"
      ],
      "metadata": {
        "id": "bM_QVe7FzF8C"
      },
      "execution_count": 34,
      "outputs": []
    },
    {
      "cell_type": "markdown",
      "source": [
        "####Criando modelo arima"
      ],
      "metadata": {
        "id": "fzabdjVzw-L3"
      }
    },
    {
      "cell_type": "code",
      "source": [
        "model_T = ARIMA(temperatura, order=(24,0,1))"
      ],
      "metadata": {
        "id": "jYuNTr56xDZ2"
      },
      "execution_count": 35,
      "outputs": []
    },
    {
      "cell_type": "code",
      "source": [
        "#Execut do modelo\n",
        "model_T_fit = model_T.fit()"
      ],
      "metadata": {
        "id": "UGJvr_3Wz2Im",
        "colab": {
          "base_uri": "https://localhost:8080/"
        },
        "outputId": "e308b10d-270f-4ce3-a481-40d3d9124268"
      },
      "execution_count": 36,
      "outputs": [
        {
          "output_type": "stream",
          "name": "stderr",
          "text": [
            "/usr/local/lib/python3.7/dist-packages/statsmodels/base/model.py:606: ConvergenceWarning: Maximum Likelihood optimization failed to converge. Check mle_retvals\n",
            "  ConvergenceWarning)\n"
          ]
        }
      ]
    },
    {
      "cell_type": "code",
      "source": [
        "#model_T_fit.summary()"
      ],
      "metadata": {
        "id": "z8gCMyF4z9Vb"
      },
      "execution_count": 37,
      "outputs": []
    },
    {
      "cell_type": "markdown",
      "source": [
        "#####Teste obtendo predições de 1 dia e comparando com a parte final do grafico"
      ],
      "metadata": {
        "id": "6hgpV3Qf0iub"
      }
    },
    {
      "cell_type": "code",
      "source": [
        "predicoes_T = model_T_fit.get_prediction(start=-24)\n",
        "pred_med_T = predicoes_T.predicted_mean"
      ],
      "metadata": {
        "id": "JOkxikeA0mVP"
      },
      "execution_count": 38,
      "outputs": []
    },
    {
      "cell_type": "code",
      "source": [
        "datas_pred_T = np.asarray(pred_med_T.index)\n",
        "datas_T = np.asarray(parteT.index)"
      ],
      "metadata": {
        "id": "_NFM0FqT0uiQ"
      },
      "execution_count": 39,
      "outputs": []
    },
    {
      "cell_type": "code",
      "source": [
        "#plt.figure(figsize=(10,6))\n",
        "#plt.plot(datas_pred_T, pred_med_T.values, color='red', label='predicao')\n",
        "#plt.plot(datas_T, parteT.values, label = 'real')\n",
        "#plt.legend()\n",
        "#plt.show()"
      ],
      "metadata": {
        "id": "4KBTzo0R01OD"
      },
      "execution_count": 40,
      "outputs": []
    },
    {
      "cell_type": "code",
      "source": [
        "#erro medio quadratico, deu aproximadamente 1\n",
        "#rmse_T = sqrt(mean_squared_error(parteT[-24:].values, pred_med_T.values))\n",
        "#print(rmse_T)"
      ],
      "metadata": {
        "id": "d7C42uYi1AK6"
      },
      "execution_count": 41,
      "outputs": []
    },
    {
      "cell_type": "markdown",
      "source": [
        "#####Obtendo previsão"
      ],
      "metadata": {
        "id": "-eYPHn0u2U2f"
      }
    },
    {
      "cell_type": "code",
      "source": [
        "#Preencher com o numero de horas a serem previstas\n",
        "previsoes_T = model_T_fit.get_forecast(steps=48)\n",
        "previsao_M_T = previsoes_T.predicted_mean\n",
        "previsao_M_T.size"
      ],
      "metadata": {
        "colab": {
          "base_uri": "https://localhost:8080/"
        },
        "id": "bVOsB90U2V91",
        "outputId": "470910e9-93c4-410e-9c1d-da45d866b4ba"
      },
      "execution_count": 42,
      "outputs": [
        {
          "output_type": "execute_result",
          "data": {
            "text/plain": [
              "48"
            ]
          },
          "metadata": {},
          "execution_count": 42
        }
      ]
    },
    {
      "cell_type": "code",
      "source": [
        "previsao_M_T[0]"
      ],
      "metadata": {
        "colab": {
          "base_uri": "https://localhost:8080/"
        },
        "id": "pyadiALN2mRd",
        "outputId": "61c67b3e-a8fc-4b98-ed22-3080bc0c32de"
      },
      "execution_count": 43,
      "outputs": [
        {
          "output_type": "execute_result",
          "data": {
            "text/plain": [
              "24.735391178826134"
            ]
          },
          "metadata": {},
          "execution_count": 43
        }
      ]
    },
    {
      "cell_type": "code",
      "source": [
        "datas_prev_T = np.array(previsao_M_T.index)\n",
        "\n",
        "plt.figure(figsize=(20,2))\n",
        "plt.plot(datas_prev_T, previsao_M_T.values, color='green', label='previsão')\n",
        "\n",
        "plt.plot(datas_pred_T, pred_med_T.values, color='red', label='predicao')\n",
        "plt.plot(datas_T, parteT.values, label = 'real')\n",
        "plt.legend(loc='upper left')\n",
        "plt.show()"
      ],
      "metadata": {
        "colab": {
          "base_uri": "https://localhost:8080/",
          "height": 0
        },
        "id": "zDLtcOCC3W7V",
        "outputId": "4ab9ab31-0790-48be-9d33-ca6e6f732c40"
      },
      "execution_count": 44,
      "outputs": [
        {
          "output_type": "display_data",
          "data": {
            "text/plain": [
              "<Figure size 1440x144 with 1 Axes>"
            ],
            "image/png": "[encoded data removed]"
          },
          "metadata": {
            "needs_background": "light"
          }
        }
      ]
    },
    {
      "cell_type": "code",
      "source": [
        "#print(previsao_M_T)\n",
        "#comparei e a previsão de tempertaura do dia seguinte está abtendo certinha com a do google (pelo q vi margem de 2 graus)\n",
        "#entretanto deve ser levado em consideração q a hora aqui está em relação a greenwich"
      ],
      "metadata": {
        "id": "VOAAy71K4ZjR"
      },
      "execution_count": 45,
      "outputs": []
    },
    {
      "cell_type": "markdown",
      "source": [
        "### Análise de radiação"
      ],
      "metadata": {
        "id": "UTFUnRGJC07T"
      }
    },
    {
      "cell_type": "code",
      "source": [
        "#print(radiacao)\n",
        "#radiacao.plot(figsize=(20,6))\n",
        "#radiacao.describe()"
      ],
      "metadata": {
        "id": "Wj-fK4lDDAlp"
      },
      "execution_count": 46,
      "outputs": []
    },
    {
      "cell_type": "code",
      "source": [
        "#Análise de tendência e sazonalidade e resíduos\n",
        "\n",
        "#AnlRad = seasonal_decompose(radiacao)\n",
        "#fig = plt.figure(figsize=(8,6))\n",
        "#fig = AnlRad.plot()"
      ],
      "metadata": {
        "id": "aTxBGQSy-qgh"
      },
      "execution_count": 47,
      "outputs": []
    },
    {
      "cell_type": "code",
      "source": [
        "#Análise de tendência e sazonalidade e resíduos da parte final\n",
        "\n",
        "#meses\n",
        "percentual = int(len(radiacao)*0.95)\n",
        "parteR = radiacao[percentual:]\n",
        "#AnlpartRad = seasonal_decompose(parteR)\n",
        "#figpart = plt.figure(figsize=(8,6))\n",
        "#figpart = AnlpartRad.plot()"
      ],
      "metadata": {
        "id": "LNXhabe0-ydf"
      },
      "execution_count": 48,
      "outputs": []
    },
    {
      "cell_type": "markdown",
      "source": [
        "####Teste de estacionariedade"
      ],
      "metadata": {
        "id": "NmIxsD2U_Myu"
      }
    },
    {
      "cell_type": "code",
      "source": [
        "##teste de estacionariedade\n",
        "#estR = adfuller(radiacao)\n",
        "#print(f'teste ADF:{estR[0]}')\n",
        "#print(f'p-valor:{estR[1]}')\n",
        "##p-valor muito baixo, ou seja é estacionária"
      ],
      "metadata": {
        "id": "mkTZKTCF_Njg"
      },
      "execution_count": 49,
      "outputs": []
    },
    {
      "cell_type": "code",
      "source": [
        "## teste de estacionariedade com diferenciação do valor atual - anterior\n",
        "#estR = adfuller(radiacao.diff().dropna())\n",
        "#print(f'teste ADF:{estR[0]}')\n",
        "#print(f'p-valor:{estR[1]}')"
      ],
      "metadata": {
        "id": "40WXGXR-_VvN"
      },
      "execution_count": 50,
      "outputs": []
    },
    {
      "cell_type": "markdown",
      "source": [
        "####Teste de autocorrelação"
      ],
      "metadata": {
        "id": "PphOwIYv_lSd"
      }
    },
    {
      "cell_type": "code",
      "source": [
        "#autocorrelation_plot(radiacao)\n",
        "#pyplot.show()"
      ],
      "metadata": {
        "id": "giXMmH9q_l55"
      },
      "execution_count": 51,
      "outputs": []
    },
    {
      "cell_type": "code",
      "source": [
        "#plot_acf(radiacao, lags = 24)\n",
        "#pyplot.show()\n",
        "\n",
        "#Em 3500 lags fica abaixo do nível de significância\n",
        "#Em 24 lags primeira repetição"
      ],
      "metadata": {
        "id": "hk0JU7kq_pvk"
      },
      "execution_count": 52,
      "outputs": []
    },
    {
      "cell_type": "markdown",
      "source": [
        "####Criando modelo arima"
      ],
      "metadata": {
        "id": "ZmmI3eMN_1Yv"
      }
    },
    {
      "cell_type": "code",
      "source": [
        "model_R = ARIMA(radiacao, order=(24,0,1))"
      ],
      "metadata": {
        "id": "uK_oUa54_13E"
      },
      "execution_count": 53,
      "outputs": []
    },
    {
      "cell_type": "code",
      "source": [
        "#Execut do modelo\n",
        "model_R_fit = model_R.fit()"
      ],
      "metadata": {
        "colab": {
          "base_uri": "https://localhost:8080/"
        },
        "id": "VtDL2Q8eBPqU",
        "outputId": "0f960a7f-6bed-4eaf-f93c-a80c222a9e59"
      },
      "execution_count": 54,
      "outputs": [
        {
          "output_type": "stream",
          "name": "stderr",
          "text": [
            "/usr/local/lib/python3.7/dist-packages/statsmodels/base/model.py:606: ConvergenceWarning: Maximum Likelihood optimization failed to converge. Check mle_retvals\n",
            "  ConvergenceWarning)\n"
          ]
        }
      ]
    },
    {
      "cell_type": "code",
      "source": [
        "#model_R_fit.summary()"
      ],
      "metadata": {
        "id": "BwXe677VBUzY"
      },
      "execution_count": 55,
      "outputs": []
    },
    {
      "cell_type": "markdown",
      "source": [
        "#####Teste obtendo predições de 1 dia e comparando com a parte final do grafico"
      ],
      "metadata": {
        "id": "cMaWZPfKCSNg"
      }
    },
    {
      "cell_type": "code",
      "source": [
        "predicoes_R = model_R_fit.get_prediction(start=-24)\n",
        "pred_med_R = predicoes_R.predicted_mean"
      ],
      "metadata": {
        "id": "sw65S70rCStJ"
      },
      "execution_count": 56,
      "outputs": []
    },
    {
      "cell_type": "code",
      "source": [
        "datas_pred_R = np.asarray(pred_med_R.index)\n",
        "datas_R = np.asarray(parteR.index)"
      ],
      "metadata": {
        "id": "l_WBeSrzCdmU"
      },
      "execution_count": 57,
      "outputs": []
    },
    {
      "cell_type": "code",
      "source": [
        "#plt.figure(figsize=(10,6))\n",
        "#plt.plot(datas_pred_R, pred_med_R.values, color='red', label='predicao')\n",
        "#plt.plot(datas_R, parteR.values, label = 'real')\n",
        "#plt.legend()\n",
        "#plt.show()"
      ],
      "metadata": {
        "id": "wm62Y6ZACknc"
      },
      "execution_count": 58,
      "outputs": []
    },
    {
      "cell_type": "code",
      "source": [
        "#erro medio quadratico, deu aproximadamente 380\n",
        "#rmse_R = sqrt(mean_squared_error(parteR[-24:].values, pred_med_R.values))\n",
        "#print(rmse_R)"
      ],
      "metadata": {
        "id": "7vzCcvOTCsts"
      },
      "execution_count": 59,
      "outputs": []
    },
    {
      "cell_type": "markdown",
      "source": [
        "#####Obtendo previsão"
      ],
      "metadata": {
        "id": "UVjUkjSmCtNk"
      }
    },
    {
      "cell_type": "code",
      "source": [
        "#Preencher com o numero de horas a serem previstas\n",
        "previsoes_R = model_R_fit.get_forecast(steps=48)\n",
        "previsao_M_R = previsoes_R.predicted_mean\n",
        "previsao_M_R.size"
      ],
      "metadata": {
        "colab": {
          "base_uri": "https://localhost:8080/"
        },
        "id": "WaDOsQp7C_SM",
        "outputId": "2cf7b5d8-d0df-4c1a-f575-5043ae4605fb"
      },
      "execution_count": 60,
      "outputs": [
        {
          "output_type": "execute_result",
          "data": {
            "text/plain": [
              "48"
            ]
          },
          "metadata": {},
          "execution_count": 60
        }
      ]
    },
    {
      "cell_type": "code",
      "source": [
        "previsao_M_R[0]"
      ],
      "metadata": {
        "colab": {
          "base_uri": "https://localhost:8080/"
        },
        "id": "FGCYb38nDGD5",
        "outputId": "21a2f0db-a51b-44a9-f089-4aa80cbcb34b"
      },
      "execution_count": 61,
      "outputs": [
        {
          "output_type": "execute_result",
          "data": {
            "text/plain": [
              "46.70668495183759"
            ]
          },
          "metadata": {},
          "execution_count": 61
        }
      ]
    },
    {
      "cell_type": "code",
      "source": [
        "datas_prev_R = np.array(previsao_M_R.index)\n",
        "\n",
        "plt.figure(figsize=(20,2))\n",
        "plt.plot(datas_prev_R, previsao_M_R.values, color='green', label='previsão')\n",
        "\n",
        "plt.plot(datas_pred_R, pred_med_R.values, color='red', label='predicao')\n",
        "plt.plot(datas_R, parteR.values, label = 'real')\n",
        "plt.legend(loc='upper left')\n",
        "plt.show()"
      ],
      "metadata": {
        "colab": {
          "base_uri": "https://localhost:8080/",
          "height": 0
        },
        "id": "_baCdPvMDLuF",
        "outputId": "49224fb9-a7ab-4e01-d9ac-bff106c9fad3"
      },
      "execution_count": 62,
      "outputs": [
        {
          "output_type": "display_data",
          "data": {
            "text/plain": [
              "<Figure size 1440x144 with 1 Axes>"
            ],
            "image/png": "[encoded data removed]"
          },
          "metadata": {
            "needs_background": "light"
          }
        }
      ]
    },
    {
      "cell_type": "code",
      "source": [
        "print(previsao_M_R)\n",
        "#A hora aqui está em relação a greenwich"
      ],
      "metadata": {
        "colab": {
          "base_uri": "https://localhost:8080/"
        },
        "id": "4coaQZU4Db-5",
        "outputId": "ecaf54bc-6244-4405-b595-b34f02e97cea"
      },
      "execution_count": 63,
      "outputs": [
        {
          "output_type": "stream",
          "name": "stdout",
          "text": [
            "2022-07-08 00:00:00      46.706685\n",
            "2022-07-08 01:00:00      83.971506\n",
            "2022-07-08 02:00:00     105.803774\n",
            "2022-07-08 03:00:00      98.452142\n",
            "2022-07-08 04:00:00      82.850902\n",
            "2022-07-08 05:00:00      60.129678\n",
            "2022-07-08 06:00:00      26.542225\n",
            "2022-07-08 07:00:00     -17.200633\n",
            "2022-07-08 08:00:00     -57.793664\n",
            "2022-07-08 09:00:00     -57.589699\n",
            "2022-07-08 10:00:00      75.020362\n",
            "2022-07-08 11:00:00     360.820663\n",
            "2022-07-08 12:00:00     776.647305\n",
            "2022-07-08 13:00:00    1283.723430\n",
            "2022-07-08 14:00:00    1795.229415\n",
            "2022-07-08 15:00:00    2118.254042\n",
            "2022-07-08 16:00:00    2090.225467\n",
            "2022-07-08 17:00:00    1650.299062\n",
            "2022-07-08 18:00:00    1126.131295\n",
            "2022-07-08 19:00:00     608.773477\n",
            "2022-07-08 20:00:00     264.670068\n",
            "2022-07-08 21:00:00      55.567357\n",
            "2022-07-08 22:00:00     -37.331401\n",
            "2022-07-08 23:00:00     -36.278648\n",
            "2022-07-09 00:00:00      21.202638\n",
            "2022-07-09 01:00:00      91.243470\n",
            "2022-07-09 02:00:00     145.033930\n",
            "2022-07-09 03:00:00     166.047254\n",
            "2022-07-09 04:00:00     152.043561\n",
            "2022-07-09 05:00:00     104.685912\n",
            "2022-07-09 06:00:00      33.891968\n",
            "2022-07-09 07:00:00     -38.774579\n",
            "2022-07-09 08:00:00     -77.145510\n",
            "2022-07-09 09:00:00     -31.737278\n",
            "2022-07-09 10:00:00     143.767567\n",
            "2022-07-09 11:00:00     458.369441\n",
            "2022-07-09 12:00:00     877.070395\n",
            "2022-07-09 13:00:00    1324.913390\n",
            "2022-07-09 14:00:00    1701.791878\n",
            "2022-07-09 15:00:00    1900.563413\n",
            "2022-07-09 16:00:00    1855.450708\n",
            "2022-07-09 17:00:00    1584.561601\n",
            "2022-07-09 18:00:00    1184.288618\n",
            "2022-07-09 19:00:00     757.364167\n",
            "2022-07-09 20:00:00     393.764459\n",
            "2022-07-09 21:00:00     137.973478\n",
            "2022-07-09 22:00:00       3.217772\n",
            "2022-07-09 23:00:00     -24.703398\n",
            "Freq: H, Name: predicted_mean, dtype: float64\n"
          ]
        }
      ]
    },
    {
      "cell_type": "markdown",
      "source": [
        "## Junção para entrega csv"
      ],
      "metadata": {
        "id": "_2VJ4OkcH6-n"
      }
    },
    {
      "cell_type": "code",
      "source": [
        "#[[\"DT_MEDICAO\",\"HR_MEDICAO\",\"RAD_GLO\",\"TEM_INS\",\"UMD_INS\"]]\n",
        "#previsao_M_R\n",
        "#previsao_M_T\n",
        "#previsao_M_U\n",
        "parte = int(len(previsao_M_R)*0.5)\n",
        "prvdia_M_R = previsao_M_R[parte:]\n",
        "prvdia_M_T = previsao_M_T[parte:]\n",
        "prvdia_M_U = previsao_M_U[parte:]\n",
        "A = pd.concat([prvdia_M_R, prvdia_M_T, prvdia_M_U], axis=1, ignore_index=True)\n",
        "A.columns = [\"RAD_GLO\", \"TEM_INS\", \"UMD_INS\"]\n",
        "#print(A)\n",
        "\n",
        "#B = A.to_csv()\n",
        "#print(B)"
      ],
      "metadata": {
        "id": "3b87SEInK8Dr"
      },
      "execution_count": 64,
      "outputs": []
    },
    {
      "cell_type": "code",
      "source": [
        "data1 = pd.DataFrame({\"2022-07-09\"})\n",
        "data = data1\n",
        "for i in range(0,23):\n",
        "  data = [data, data1]\n",
        "  data = pd.concat(data, ignore_index=True)\n",
        "#pd.DataFrame(data1)\n",
        "data.columns = [\"DT_MEDICAO\"]\n",
        "print(data)#[[\"DT_MEDICAO\"]]"
      ],
      "metadata": {
        "id": "U7KDxKWVElvA",
        "colab": {
          "base_uri": "https://localhost:8080/"
        },
        "outputId": "739ce38f-dd78-434a-cf5f-f4e8d67c1c90"
      },
      "execution_count": 65,
      "outputs": [
        {
          "output_type": "stream",
          "name": "stdout",
          "text": [
            "    DT_MEDICAO\n",
            "0   2022-07-09\n",
            "1   2022-07-09\n",
            "2   2022-07-09\n",
            "3   2022-07-09\n",
            "4   2022-07-09\n",
            "5   2022-07-09\n",
            "6   2022-07-09\n",
            "7   2022-07-09\n",
            "8   2022-07-09\n",
            "9   2022-07-09\n",
            "10  2022-07-09\n",
            "11  2022-07-09\n",
            "12  2022-07-09\n",
            "13  2022-07-09\n",
            "14  2022-07-09\n",
            "15  2022-07-09\n",
            "16  2022-07-09\n",
            "17  2022-07-09\n",
            "18  2022-07-09\n",
            "19  2022-07-09\n",
            "20  2022-07-09\n",
            "21  2022-07-09\n",
            "22  2022-07-09\n",
            "23  2022-07-09\n"
          ]
        }
      ]
    },
    {
      "cell_type": "code",
      "source": [
        "colunaH = pd.Series(range(0,2400,100))\n",
        "colunaH = pd.DataFrame(colunaH, columns = ['HR_MEDICAO'])\n",
        "print(colunaH)"
      ],
      "metadata": {
        "id": "_ujWQOyuE5lK",
        "colab": {
          "base_uri": "https://localhost:8080/"
        },
        "outputId": "ab1cc89d-cbf1-493c-d3c0-2e3983907cd8"
      },
      "execution_count": 66,
      "outputs": [
        {
          "output_type": "stream",
          "name": "stdout",
          "text": [
            "    HR_MEDICAO\n",
            "0            0\n",
            "1          100\n",
            "2          200\n",
            "3          300\n",
            "4          400\n",
            "5          500\n",
            "6          600\n",
            "7          700\n",
            "8          800\n",
            "9          900\n",
            "10        1000\n",
            "11        1100\n",
            "12        1200\n",
            "13        1300\n",
            "14        1400\n",
            "15        1500\n",
            "16        1600\n",
            "17        1700\n",
            "18        1800\n",
            "19        1900\n",
            "20        2000\n",
            "21        2100\n",
            "22        2200\n",
            "23        2300\n"
          ]
        }
      ]
    },
    {
      "cell_type": "code",
      "source": [
        "A.index = range(0,24)\n",
        "print(A)"
      ],
      "metadata": {
        "id": "i2phK68WI6mO",
        "colab": {
          "base_uri": "https://localhost:8080/"
        },
        "outputId": "668fb9b5-b0d3-4eea-da94-3097a87edcc6"
      },
      "execution_count": 67,
      "outputs": [
        {
          "output_type": "stream",
          "name": "stdout",
          "text": [
            "        RAD_GLO    TEM_INS    UMD_INS\n",
            "0     21.202638  24.904375  92.099292\n",
            "1     91.243470  25.014160  91.298350\n",
            "2    145.033930  25.088300  90.415978\n",
            "3    166.047254  25.062789  89.716980\n",
            "4    152.043561  24.904264  89.424199\n",
            "5    104.685912  24.640720  89.603188\n",
            "6     33.891968  24.373939  90.002625\n",
            "7    -38.774579  24.230892  90.219696\n",
            "8    -77.145510  24.313621  89.956469\n",
            "9    -31.737278  24.683936  89.055709\n",
            "10   143.767567  25.333175  87.404295\n",
            "11   458.369441  26.190090  85.045824\n",
            "12   877.070395  27.139115  82.277603\n",
            "13  1324.913390  28.014050  79.659367\n",
            "14  1701.791878  28.669486  77.647130\n",
            "15  1900.563413  29.010417  76.617199\n",
            "16  1855.450708  28.974284  76.844067\n",
            "17  1584.561601  28.579944  78.334168\n",
            "18  1184.288618  27.947776  80.625237\n",
            "19   757.364167  27.218452  83.267466\n",
            "20   393.764459  26.517521  85.858970\n",
            "21   137.973478  25.938095  88.058043\n",
            "22     3.217772  25.532050  89.607034\n",
            "23   -24.703398  25.296057  90.444941\n"
          ]
        }
      ]
    },
    {
      "cell_type": "code",
      "source": [
        "C = pd.concat([data, colunaH, A], axis=1, ignore_index=False)\n",
        "print(C)"
      ],
      "metadata": {
        "id": "31BWSY1KF1KE",
        "colab": {
          "base_uri": "https://localhost:8080/"
        },
        "outputId": "b9d0ee20-46b5-4c1c-dbd9-373a1bfe2fad"
      },
      "execution_count": 68,
      "outputs": [
        {
          "output_type": "stream",
          "name": "stdout",
          "text": [
            "    DT_MEDICAO  HR_MEDICAO      RAD_GLO    TEM_INS    UMD_INS\n",
            "0   2022-07-09           0    21.202638  24.904375  92.099292\n",
            "1   2022-07-09         100    91.243470  25.014160  91.298350\n",
            "2   2022-07-09         200   145.033930  25.088300  90.415978\n",
            "3   2022-07-09         300   166.047254  25.062789  89.716980\n",
            "4   2022-07-09         400   152.043561  24.904264  89.424199\n",
            "5   2022-07-09         500   104.685912  24.640720  89.603188\n",
            "6   2022-07-09         600    33.891968  24.373939  90.002625\n",
            "7   2022-07-09         700   -38.774579  24.230892  90.219696\n",
            "8   2022-07-09         800   -77.145510  24.313621  89.956469\n",
            "9   2022-07-09         900   -31.737278  24.683936  89.055709\n",
            "10  2022-07-09        1000   143.767567  25.333175  87.404295\n",
            "11  2022-07-09        1100   458.369441  26.190090  85.045824\n",
            "12  2022-07-09        1200   877.070395  27.139115  82.277603\n",
            "13  2022-07-09        1300  1324.913390  28.014050  79.659367\n",
            "14  2022-07-09        1400  1701.791878  28.669486  77.647130\n",
            "15  2022-07-09        1500  1900.563413  29.010417  76.617199\n",
            "16  2022-07-09        1600  1855.450708  28.974284  76.844067\n",
            "17  2022-07-09        1700  1584.561601  28.579944  78.334168\n",
            "18  2022-07-09        1800  1184.288618  27.947776  80.625237\n",
            "19  2022-07-09        1900   757.364167  27.218452  83.267466\n",
            "20  2022-07-09        2000   393.764459  26.517521  85.858970\n",
            "21  2022-07-09        2100   137.973478  25.938095  88.058043\n",
            "22  2022-07-09        2200     3.217772  25.532050  89.607034\n",
            "23  2022-07-09        2300   -24.703398  25.296057  90.444941\n"
          ]
        }
      ]
    },
    {
      "cell_type": "code",
      "source": [
        "C[\"RAD_GLO\"] = [correct_neg(x) for x in C[\"RAD_GLO\"]]\n",
        "print(C)"
      ],
      "metadata": {
        "id": "NVFBpXU4J27d",
        "colab": {
          "base_uri": "https://localhost:8080/"
        },
        "outputId": "cbb58f16-bfb5-4ea0-c763-66ca564df325"
      },
      "execution_count": 69,
      "outputs": [
        {
          "output_type": "stream",
          "name": "stdout",
          "text": [
            "    DT_MEDICAO  HR_MEDICAO      RAD_GLO    TEM_INS    UMD_INS\n",
            "0   2022-07-09           0    21.202638  24.904375  92.099292\n",
            "1   2022-07-09         100    91.243470  25.014160  91.298350\n",
            "2   2022-07-09         200   145.033930  25.088300  90.415978\n",
            "3   2022-07-09         300   166.047254  25.062789  89.716980\n",
            "4   2022-07-09         400   152.043561  24.904264  89.424199\n",
            "5   2022-07-09         500   104.685912  24.640720  89.603188\n",
            "6   2022-07-09         600    33.891968  24.373939  90.002625\n",
            "7   2022-07-09         700     0.000000  24.230892  90.219696\n",
            "8   2022-07-09         800     0.000000  24.313621  89.956469\n",
            "9   2022-07-09         900     0.000000  24.683936  89.055709\n",
            "10  2022-07-09        1000   143.767567  25.333175  87.404295\n",
            "11  2022-07-09        1100   458.369441  26.190090  85.045824\n",
            "12  2022-07-09        1200   877.070395  27.139115  82.277603\n",
            "13  2022-07-09        1300  1324.913390  28.014050  79.659367\n",
            "14  2022-07-09        1400  1701.791878  28.669486  77.647130\n",
            "15  2022-07-09        1500  1900.563413  29.010417  76.617199\n",
            "16  2022-07-09        1600  1855.450708  28.974284  76.844067\n",
            "17  2022-07-09        1700  1584.561601  28.579944  78.334168\n",
            "18  2022-07-09        1800  1184.288618  27.947776  80.625237\n",
            "19  2022-07-09        1900   757.364167  27.218452  83.267466\n",
            "20  2022-07-09        2000   393.764459  26.517521  85.858970\n",
            "21  2022-07-09        2100   137.973478  25.938095  88.058043\n",
            "22  2022-07-09        2200     3.217772  25.532050  89.607034\n",
            "23  2022-07-09        2300     0.000000  25.296057  90.444941\n"
          ]
        }
      ]
    },
    {
      "cell_type": "code",
      "source": [
        "B = C.to_csv()\n",
        "print(B)"
      ],
      "metadata": {
        "colab": {
          "base_uri": "https://localhost:8080/"
        },
        "id": "GMLwmX_OJfsX",
        "outputId": "656e6e76-ef33-4130-9700-9d20de3e167b"
      },
      "execution_count": 70,
      "outputs": [
        {
          "output_type": "stream",
          "name": "stdout",
          "text": [
            ",DT_MEDICAO,HR_MEDICAO,RAD_GLO,TEM_INS,UMD_INS\n",
            "0,2022-07-09,0,21.202637701608523,24.90437482095261,92.09929165750683\n",
            "1,2022-07-09,100,91.24347003122182,25.014160255397915,91.29834965619546\n",
            "2,2022-07-09,200,145.03393047346225,25.088299535740326,90.41597834174515\n",
            "3,2022-07-09,300,166.04725382454785,25.062788982415853,89.71697995434324\n",
            "4,2022-07-09,400,152.0435612928817,24.904264468347744,89.42419911266619\n",
            "5,2022-07-09,500,104.68591181296688,24.640720293099076,89.6031879579397\n",
            "6,2022-07-09,600,33.89196791479196,24.37393914826191,90.00262494540819\n",
            "7,2022-07-09,700,0.0,24.230891792771324,90.21969630739005\n",
            "8,2022-07-09,800,0.0,24.313620804403854,89.95646932567576\n",
            "9,2022-07-09,900,0.0,24.68393587696281,89.05570938520383\n",
            "10,2022-07-09,1000,143.7675666905361,25.33317498537798,87.40429524660172\n",
            "11,2022-07-09,1100,458.36944115320483,26.190090016387288,85.04582411969301\n",
            "12,2022-07-09,1200,877.0703947957045,27.13911500927789,82.27760338161013\n",
            "13,2022-07-09,1300,1324.9133898629752,28.014050334049273,79.65936689178328\n",
            "14,2022-07-09,1400,1701.7918780154228,28.669486245423656,77.64712991782173\n",
            "15,2022-07-09,1500,1900.5634128838255,29.010416700819523,76.6171994956853\n",
            "16,2022-07-09,1600,1855.450708066243,28.97428366924958,76.84406739851185\n",
            "17,2022-07-09,1700,1584.561600902922,28.57994382487663,78.33416797588322\n",
            "18,2022-07-09,1800,1184.2886177570651,27.947776284307917,80.62523735808409\n",
            "19,2022-07-09,1900,757.3641674960346,27.21845242940896,83.26746559653141\n",
            "20,2022-07-09,2000,393.7644588419648,26.517521067884502,85.85897001705304\n",
            "21,2022-07-09,2100,137.9734779628851,25.9380954967877,88.05804345596135\n",
            "22,2022-07-09,2200,3.2177715559167837,25.53205026876985,89.60703385183359\n",
            "23,2022-07-09,2300,0.0,25.296057182961746,90.44494071965909\n",
            "\n"
          ]
        }
      ]
    },
    {
      "cell_type": "code",
      "source": [
        "#falta só:\n",
        "#copiar o csv num bloco de notas\n",
        "#importar o bloco de notas no exel do drive selecionando q é separado por virgulas e n trasformar letras em numeros\n",
        "#fazer download escolhendo tipo .csv"
      ],
      "metadata": {
        "id": "E3XOYvOKt1qS"
      },
      "execution_count": null,
      "outputs": []
    }
  ]
}